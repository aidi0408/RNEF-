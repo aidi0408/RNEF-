{
 "cells": [
  {
   "cell_type": "code",
   "execution_count": null,
   "outputs": [],
   "source": [
    "%pip install yfinance\n",
    "%pip install numpy\n",
    "%pip install scipy\n",
    "%pip install pandas\n",
    "%pip install matplotlib\n",
    "%pip install pandas_datareader\n",
    "%pip install openpyxl\n",
    "%pip install pytz\n",
    "%pip install ipykernel"
   ],
   "metadata": {
    "collapsed": false
   }
  }
 ],
 "metadata": {
  "kernelspec": {
   "display_name": "Python 3",
   "language": "python",
   "name": "python3"
  },
  "language_info": {
   "codemirror_mode": {
    "name": "ipython",
    "version": 2
   },
   "file_extension": ".py",
   "mimetype": "text/x-python",
   "name": "python",
   "nbconvert_exporter": "python",
   "pygments_lexer": "ipython2",
   "version": "2.7.6"
  }
 },
 "nbformat": 4,
 "nbformat_minor": 0
}
