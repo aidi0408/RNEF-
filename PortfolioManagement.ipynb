{
 "cells": [
  {
   "cell_type": "markdown",
   "source": [
    "Markowitz Efficient Frontier Portoflio Optimizer\n",
    "\n"
   ],
   "metadata": {
    "collapsed": false
   }
  },
  {
   "cell_type": "code",
   "execution_count": 1,
   "outputs": [],
   "source": [
    "import numpy as np\n",
    "import pandas as pd\n",
    "import matplotlib.pyplot as plt\n",
    "%matplotlib inline\n",
    "from pandas_datareader import data as pdr\n",
    "from datetime import datetime\n",
    "import yfinance as yfin\n",
    "import requests\n",
    "import scipy.optimize as sco\n",
    "import scipy.interpolate as sci"
   ],
   "metadata": {
    "collapsed": false
   }
  },
  {
   "cell_type": "code",
   "execution_count": 2,
   "outputs": [
    {
     "data": {
      "text/plain": "  Security              PK    ID Position Price_1   PCS FX Rate Principal  \\\n0  AMRC US  AMRC US Equity  AMRC      140    55.1  EXCH       1      7714   \n1   DAR US   DAR US Equity   DAR      175   66.85  EXCH       1  11698.75   \n2   ETR US   ETR US Equity   ETR      140  105.76  EXCH       1   14803.6   \n3   GPP US   GPP US Equity   GPP     1200   13.05  EXCH       1     15660   \n4  ICLN US  ICLN US Equity  ICLN      870   19.87  EXCH       1   17286.9   \n5  MVST US  MVST US Equity  MVST     1000    1.53  EXCH       1      1530   \n6  STEM US  STEM US Equity  STEM      350    9.15  EXCH       1    3202.5   \n\n  Accrued Market Val Price_2 FX Rate Principal Accrued  Cost Val Cost Date  \n0     NaN       7714      55       1      7700     NaN      7700  12/22/22  \n1     NaN   11698.75   67.31       1  11779.57     NaN  11779.57  11/29/22  \n2     NaN    14803.6  103.93       1   14550.2     NaN   14550.2  02/13/23  \n3     NaN      15660   12.27       1  14726.86     NaN  14726.86  11/23/22  \n4     NaN    17286.9   17.84       1  15520.45     NaN  15520.45  10/13/22  \n5     NaN       1530    1.96       1    1957.7     NaN    1957.7  12/09/22  \n6     NaN     3202.5   10.55       1   3690.75     NaN   3690.75  12/09/22  ",
      "text/html": "<div>\n<style scoped>\n    .dataframe tbody tr th:only-of-type {\n        vertical-align: middle;\n    }\n\n    .dataframe tbody tr th {\n        vertical-align: top;\n    }\n\n    .dataframe thead th {\n        text-align: right;\n    }\n</style>\n<table border=\"1\" class=\"dataframe\">\n  <thead>\n    <tr style=\"text-align: right;\">\n      <th></th>\n      <th>Security</th>\n      <th>PK</th>\n      <th>ID</th>\n      <th>Position</th>\n      <th>Price_1</th>\n      <th>PCS</th>\n      <th>FX Rate</th>\n      <th>Principal</th>\n      <th>Accrued</th>\n      <th>Market Val</th>\n      <th>Price_2</th>\n      <th>FX Rate</th>\n      <th>Principal</th>\n      <th>Accrued</th>\n      <th>Cost Val</th>\n      <th>Cost Date</th>\n    </tr>\n  </thead>\n  <tbody>\n    <tr>\n      <th>0</th>\n      <td>AMRC US</td>\n      <td>AMRC US Equity</td>\n      <td>AMRC</td>\n      <td>140</td>\n      <td>55.1</td>\n      <td>EXCH</td>\n      <td>1</td>\n      <td>7714</td>\n      <td>NaN</td>\n      <td>7714</td>\n      <td>55</td>\n      <td>1</td>\n      <td>7700</td>\n      <td>NaN</td>\n      <td>7700</td>\n      <td>12/22/22</td>\n    </tr>\n    <tr>\n      <th>1</th>\n      <td>DAR US</td>\n      <td>DAR US Equity</td>\n      <td>DAR</td>\n      <td>175</td>\n      <td>66.85</td>\n      <td>EXCH</td>\n      <td>1</td>\n      <td>11698.75</td>\n      <td>NaN</td>\n      <td>11698.75</td>\n      <td>67.31</td>\n      <td>1</td>\n      <td>11779.57</td>\n      <td>NaN</td>\n      <td>11779.57</td>\n      <td>11/29/22</td>\n    </tr>\n    <tr>\n      <th>2</th>\n      <td>ETR US</td>\n      <td>ETR US Equity</td>\n      <td>ETR</td>\n      <td>140</td>\n      <td>105.76</td>\n      <td>EXCH</td>\n      <td>1</td>\n      <td>14803.6</td>\n      <td>NaN</td>\n      <td>14803.6</td>\n      <td>103.93</td>\n      <td>1</td>\n      <td>14550.2</td>\n      <td>NaN</td>\n      <td>14550.2</td>\n      <td>02/13/23</td>\n    </tr>\n    <tr>\n      <th>3</th>\n      <td>GPP US</td>\n      <td>GPP US Equity</td>\n      <td>GPP</td>\n      <td>1200</td>\n      <td>13.05</td>\n      <td>EXCH</td>\n      <td>1</td>\n      <td>15660</td>\n      <td>NaN</td>\n      <td>15660</td>\n      <td>12.27</td>\n      <td>1</td>\n      <td>14726.86</td>\n      <td>NaN</td>\n      <td>14726.86</td>\n      <td>11/23/22</td>\n    </tr>\n    <tr>\n      <th>4</th>\n      <td>ICLN US</td>\n      <td>ICLN US Equity</td>\n      <td>ICLN</td>\n      <td>870</td>\n      <td>19.87</td>\n      <td>EXCH</td>\n      <td>1</td>\n      <td>17286.9</td>\n      <td>NaN</td>\n      <td>17286.9</td>\n      <td>17.84</td>\n      <td>1</td>\n      <td>15520.45</td>\n      <td>NaN</td>\n      <td>15520.45</td>\n      <td>10/13/22</td>\n    </tr>\n    <tr>\n      <th>5</th>\n      <td>MVST US</td>\n      <td>MVST US Equity</td>\n      <td>MVST</td>\n      <td>1000</td>\n      <td>1.53</td>\n      <td>EXCH</td>\n      <td>1</td>\n      <td>1530</td>\n      <td>NaN</td>\n      <td>1530</td>\n      <td>1.96</td>\n      <td>1</td>\n      <td>1957.7</td>\n      <td>NaN</td>\n      <td>1957.7</td>\n      <td>12/09/22</td>\n    </tr>\n    <tr>\n      <th>6</th>\n      <td>STEM US</td>\n      <td>STEM US Equity</td>\n      <td>STEM</td>\n      <td>350</td>\n      <td>9.15</td>\n      <td>EXCH</td>\n      <td>1</td>\n      <td>3202.5</td>\n      <td>NaN</td>\n      <td>3202.5</td>\n      <td>10.55</td>\n      <td>1</td>\n      <td>3690.75</td>\n      <td>NaN</td>\n      <td>3690.75</td>\n      <td>12/09/22</td>\n    </tr>\n  </tbody>\n</table>\n</div>"
     },
     "execution_count": 2,
     "metadata": {},
     "output_type": "execute_result"
    }
   ],
   "source": [
    "#Set Up\n",
    "port = pd.read_excel('Port.xlsx', parse_dates =[15])\n",
    "port = port.rename(columns=port.loc[8])\n",
    "port = port.drop(np.arange(0,12)).reset_index(drop=True)\n",
    "port = port[port['Position'].notna()].reset_index(drop=True)\n",
    "cols = []\n",
    "count = 1\n",
    "for column in port.columns:\n",
    "    if column == 'Price':\n",
    "        cols.append(f'Price_{count}')\n",
    "        count+=1\n",
    "        continue\n",
    "    cols.append(column)\n",
    "port.columns = cols\n",
    "port = port.sort_values('ID').reset_index(drop = True)\n",
    "port\n",
    "#note that Price_1 is the current price as of the Bloomberg pull, and Price_2 is the Price we bought at"
   ],
   "metadata": {
    "collapsed": false
   }
  },
  {
   "cell_type": "code",
   "execution_count": 3,
   "outputs": [
    {
     "data": {
      "text/plain": "['AMRC', 'DAR', 'ETR', 'GPP', 'ICLN', 'MVST', 'STEM']"
     },
     "execution_count": 3,
     "metadata": {},
     "output_type": "execute_result"
    }
   ],
   "source": [
    "port_assets = list(port['ID'])\n",
    "#port_assets = ['GPP', 'MVST', 'STEM','AMRC','ICLN','DAR','ETR','UTWO']\n",
    "test_assets = ['AAPL', 'TSLA', 'AMZN', 'GOOGL']\n",
    "low_cor_assets = ['AMRC','GPP']\n",
    "#port_assets = test_assets\n",
    "#port_assets = low_cor_assets\n",
    "#Define the start date as the day you want\n",
    "start_date = \"2010-01-01\"\n",
    "#end date is today. Can be changed for serial analysis\n",
    "today = datetime.today().strftime('%Y-%m-%d')\n",
    "tradingdays = 253\n",
    "port_assets"
   ],
   "metadata": {
    "collapsed": false
   }
  },
  {
   "cell_type": "markdown",
   "source": [
    "OPTIMIZER"
   ],
   "metadata": {
    "collapsed": false
   }
  },
  {
   "cell_type": "code",
   "execution_count": 4,
   "outputs": [
    {
     "name": "stdout",
     "output_type": "stream",
     "text": [
      "[*********************100%***********************]  7 of 7 completed\n"
     ]
    },
    {
     "data": {
      "text/plain": "                 AMRC        DAR        ETR       GPP       ICLN    MVST  \\\nDate                                                                       \n2020-10-08  36.830002  40.540001  97.739784  6.132502  20.619560  10.210   \n2020-10-09  37.779999  42.349998  96.499916  6.116696  20.942501  10.200   \n2020-10-12  38.020000  43.380001  96.818993  6.092988  20.511906  10.200   \n2020-10-13  38.299999  43.540001  97.074249  6.164112  20.443405  10.170   \n2020-10-14  38.669998  43.279999  96.417847  6.322166  20.688057  10.175   \n\n             STEM  \nDate               \n2020-10-08  9.700  \n2020-10-09  9.760  \n2020-10-12  9.700  \n2020-10-13  9.750  \n2020-10-14  9.762  ",
      "text/html": "<div>\n<style scoped>\n    .dataframe tbody tr th:only-of-type {\n        vertical-align: middle;\n    }\n\n    .dataframe tbody tr th {\n        vertical-align: top;\n    }\n\n    .dataframe thead th {\n        text-align: right;\n    }\n</style>\n<table border=\"1\" class=\"dataframe\">\n  <thead>\n    <tr style=\"text-align: right;\">\n      <th></th>\n      <th>AMRC</th>\n      <th>DAR</th>\n      <th>ETR</th>\n      <th>GPP</th>\n      <th>ICLN</th>\n      <th>MVST</th>\n      <th>STEM</th>\n    </tr>\n    <tr>\n      <th>Date</th>\n      <th></th>\n      <th></th>\n      <th></th>\n      <th></th>\n      <th></th>\n      <th></th>\n      <th></th>\n    </tr>\n  </thead>\n  <tbody>\n    <tr>\n      <th>2020-10-08</th>\n      <td>36.830002</td>\n      <td>40.540001</td>\n      <td>97.739784</td>\n      <td>6.132502</td>\n      <td>20.619560</td>\n      <td>10.210</td>\n      <td>9.700</td>\n    </tr>\n    <tr>\n      <th>2020-10-09</th>\n      <td>37.779999</td>\n      <td>42.349998</td>\n      <td>96.499916</td>\n      <td>6.116696</td>\n      <td>20.942501</td>\n      <td>10.200</td>\n      <td>9.760</td>\n    </tr>\n    <tr>\n      <th>2020-10-12</th>\n      <td>38.020000</td>\n      <td>43.380001</td>\n      <td>96.818993</td>\n      <td>6.092988</td>\n      <td>20.511906</td>\n      <td>10.200</td>\n      <td>9.700</td>\n    </tr>\n    <tr>\n      <th>2020-10-13</th>\n      <td>38.299999</td>\n      <td>43.540001</td>\n      <td>97.074249</td>\n      <td>6.164112</td>\n      <td>20.443405</td>\n      <td>10.170</td>\n      <td>9.750</td>\n    </tr>\n    <tr>\n      <th>2020-10-14</th>\n      <td>38.669998</td>\n      <td>43.279999</td>\n      <td>96.417847</td>\n      <td>6.322166</td>\n      <td>20.688057</td>\n      <td>10.175</td>\n      <td>9.762</td>\n    </tr>\n  </tbody>\n</table>\n</div>"
     },
     "execution_count": 4,
     "metadata": {},
     "output_type": "execute_result"
    }
   ],
   "source": [
    "#Data Frame\n",
    "#key = '4M3P116F6VI43U85'\n",
    "#df = TimeSeries(key, output_format='pandas')\n",
    "#df = df.get_daily_adjusted('ARRY')\n",
    "#df = data.DataReader(port_assets, 'iex', start = start_date, end = today)\n",
    "yfin.pdr_override()\n",
    "df = pdr.get_data_yahoo(port_assets,start = start_date, end = today)\n",
    "df = df['Adj Close'].dropna()\n",
    "df.head()\n",
    "\n"
   ],
   "metadata": {
    "collapsed": false
   }
  },
  {
   "cell_type": "code",
   "execution_count": 5,
   "outputs": [
    {
     "data": {
      "text/plain": "          AMRC       DAR       ETR       GPP      ICLN      MVST      STEM\nAMRC  0.001621  0.000431  0.000105  0.000089  0.000633  0.000801  0.001275\nDAR   0.000431  0.000738  0.000087  0.000159  0.000259  0.000320  0.000574\nETR   0.000105  0.000087  0.000209  0.000034  0.000056  0.000035  0.000013\nGPP   0.000089  0.000159  0.000034  0.000390  0.000087  0.000072  0.000228\nICLN  0.000633  0.000259  0.000056  0.000087  0.000451  0.000422  0.000723\nMVST  0.000801  0.000320  0.000035  0.000072  0.000422  0.003632  0.001153\nSTEM  0.001275  0.000574  0.000013  0.000228  0.000723  0.001153  0.003942",
      "text/html": "<div>\n<style scoped>\n    .dataframe tbody tr th:only-of-type {\n        vertical-align: middle;\n    }\n\n    .dataframe tbody tr th {\n        vertical-align: top;\n    }\n\n    .dataframe thead th {\n        text-align: right;\n    }\n</style>\n<table border=\"1\" class=\"dataframe\">\n  <thead>\n    <tr style=\"text-align: right;\">\n      <th></th>\n      <th>AMRC</th>\n      <th>DAR</th>\n      <th>ETR</th>\n      <th>GPP</th>\n      <th>ICLN</th>\n      <th>MVST</th>\n      <th>STEM</th>\n    </tr>\n  </thead>\n  <tbody>\n    <tr>\n      <th>AMRC</th>\n      <td>0.001621</td>\n      <td>0.000431</td>\n      <td>0.000105</td>\n      <td>0.000089</td>\n      <td>0.000633</td>\n      <td>0.000801</td>\n      <td>0.001275</td>\n    </tr>\n    <tr>\n      <th>DAR</th>\n      <td>0.000431</td>\n      <td>0.000738</td>\n      <td>0.000087</td>\n      <td>0.000159</td>\n      <td>0.000259</td>\n      <td>0.000320</td>\n      <td>0.000574</td>\n    </tr>\n    <tr>\n      <th>ETR</th>\n      <td>0.000105</td>\n      <td>0.000087</td>\n      <td>0.000209</td>\n      <td>0.000034</td>\n      <td>0.000056</td>\n      <td>0.000035</td>\n      <td>0.000013</td>\n    </tr>\n    <tr>\n      <th>GPP</th>\n      <td>0.000089</td>\n      <td>0.000159</td>\n      <td>0.000034</td>\n      <td>0.000390</td>\n      <td>0.000087</td>\n      <td>0.000072</td>\n      <td>0.000228</td>\n    </tr>\n    <tr>\n      <th>ICLN</th>\n      <td>0.000633</td>\n      <td>0.000259</td>\n      <td>0.000056</td>\n      <td>0.000087</td>\n      <td>0.000451</td>\n      <td>0.000422</td>\n      <td>0.000723</td>\n    </tr>\n    <tr>\n      <th>MVST</th>\n      <td>0.000801</td>\n      <td>0.000320</td>\n      <td>0.000035</td>\n      <td>0.000072</td>\n      <td>0.000422</td>\n      <td>0.003632</td>\n      <td>0.001153</td>\n    </tr>\n    <tr>\n      <th>STEM</th>\n      <td>0.001275</td>\n      <td>0.000574</td>\n      <td>0.000013</td>\n      <td>0.000228</td>\n      <td>0.000723</td>\n      <td>0.001153</td>\n      <td>0.003942</td>\n    </tr>\n  </tbody>\n</table>\n</div>"
     },
     "execution_count": 5,
     "metadata": {},
     "output_type": "execute_result"
    }
   ],
   "source": [
    "#Covariance Matrix\n",
    "\n",
    "cov_matrix = df.pct_change().apply(lambda x: np.log(1+x)).cov()\n",
    "cov_matrix"
   ],
   "metadata": {
    "collapsed": false
   }
  },
  {
   "cell_type": "code",
   "execution_count": 6,
   "outputs": [
    {
     "data": {
      "text/plain": "          AMRC       DAR       ETR       GPP      ICLN      MVST      STEM\nAMRC  1.000000  0.394376  0.180652  0.112251  0.739986  0.330064  0.504371\nDAR   0.394376  1.000000  0.222605  0.296640  0.448899  0.195596  0.336271\nETR   0.180652  0.222605  1.000000  0.120036  0.182178  0.040016  0.013801\nGPP   0.112251  0.296640  0.120036  1.000000  0.208325  0.060389  0.184153\nICLN  0.739986  0.448899  0.182178  0.208325  1.000000  0.329896  0.542329\nMVST  0.330064  0.195596  0.040016  0.060389  0.329896  1.000000  0.304599\nSTEM  0.504371  0.336271  0.013801  0.184153  0.542329  0.304599  1.000000",
      "text/html": "<div>\n<style scoped>\n    .dataframe tbody tr th:only-of-type {\n        vertical-align: middle;\n    }\n\n    .dataframe tbody tr th {\n        vertical-align: top;\n    }\n\n    .dataframe thead th {\n        text-align: right;\n    }\n</style>\n<table border=\"1\" class=\"dataframe\">\n  <thead>\n    <tr style=\"text-align: right;\">\n      <th></th>\n      <th>AMRC</th>\n      <th>DAR</th>\n      <th>ETR</th>\n      <th>GPP</th>\n      <th>ICLN</th>\n      <th>MVST</th>\n      <th>STEM</th>\n    </tr>\n  </thead>\n  <tbody>\n    <tr>\n      <th>AMRC</th>\n      <td>1.000000</td>\n      <td>0.394376</td>\n      <td>0.180652</td>\n      <td>0.112251</td>\n      <td>0.739986</td>\n      <td>0.330064</td>\n      <td>0.504371</td>\n    </tr>\n    <tr>\n      <th>DAR</th>\n      <td>0.394376</td>\n      <td>1.000000</td>\n      <td>0.222605</td>\n      <td>0.296640</td>\n      <td>0.448899</td>\n      <td>0.195596</td>\n      <td>0.336271</td>\n    </tr>\n    <tr>\n      <th>ETR</th>\n      <td>0.180652</td>\n      <td>0.222605</td>\n      <td>1.000000</td>\n      <td>0.120036</td>\n      <td>0.182178</td>\n      <td>0.040016</td>\n      <td>0.013801</td>\n    </tr>\n    <tr>\n      <th>GPP</th>\n      <td>0.112251</td>\n      <td>0.296640</td>\n      <td>0.120036</td>\n      <td>1.000000</td>\n      <td>0.208325</td>\n      <td>0.060389</td>\n      <td>0.184153</td>\n    </tr>\n    <tr>\n      <th>ICLN</th>\n      <td>0.739986</td>\n      <td>0.448899</td>\n      <td>0.182178</td>\n      <td>0.208325</td>\n      <td>1.000000</td>\n      <td>0.329896</td>\n      <td>0.542329</td>\n    </tr>\n    <tr>\n      <th>MVST</th>\n      <td>0.330064</td>\n      <td>0.195596</td>\n      <td>0.040016</td>\n      <td>0.060389</td>\n      <td>0.329896</td>\n      <td>1.000000</td>\n      <td>0.304599</td>\n    </tr>\n    <tr>\n      <th>STEM</th>\n      <td>0.504371</td>\n      <td>0.336271</td>\n      <td>0.013801</td>\n      <td>0.184153</td>\n      <td>0.542329</td>\n      <td>0.304599</td>\n      <td>1.000000</td>\n    </tr>\n  </tbody>\n</table>\n</div>"
     },
     "execution_count": 6,
     "metadata": {},
     "output_type": "execute_result"
    }
   ],
   "source": [
    "#Correlation Matrix\n",
    "\n",
    "corr_matrix = df.pct_change().apply(lambda x: np.log(1+x)).corr()\n",
    "corr_matrix"
   ],
   "metadata": {
    "collapsed": false
   }
  },
  {
   "cell_type": "code",
   "execution_count": 7,
   "outputs": [
    {
     "data": {
      "text/plain": "       Returns  Volatility\nAMRC  0.056233    0.640372\nDAR   0.047697    0.432063\nETR   0.057654    0.230154\nGPP   0.317275    0.314127\nICLN -0.107784    0.337837\nMVST -0.501088    0.958623\nSTEM -0.229974    0.998716",
      "text/html": "<div>\n<style scoped>\n    .dataframe tbody tr th:only-of-type {\n        vertical-align: middle;\n    }\n\n    .dataframe tbody tr th {\n        vertical-align: top;\n    }\n\n    .dataframe thead th {\n        text-align: right;\n    }\n</style>\n<table border=\"1\" class=\"dataframe\">\n  <thead>\n    <tr style=\"text-align: right;\">\n      <th></th>\n      <th>Returns</th>\n      <th>Volatility</th>\n    </tr>\n  </thead>\n  <tbody>\n    <tr>\n      <th>AMRC</th>\n      <td>0.056233</td>\n      <td>0.640372</td>\n    </tr>\n    <tr>\n      <th>DAR</th>\n      <td>0.047697</td>\n      <td>0.432063</td>\n    </tr>\n    <tr>\n      <th>ETR</th>\n      <td>0.057654</td>\n      <td>0.230154</td>\n    </tr>\n    <tr>\n      <th>GPP</th>\n      <td>0.317275</td>\n      <td>0.314127</td>\n    </tr>\n    <tr>\n      <th>ICLN</th>\n      <td>-0.107784</td>\n      <td>0.337837</td>\n    </tr>\n    <tr>\n      <th>MVST</th>\n      <td>-0.501088</td>\n      <td>0.958623</td>\n    </tr>\n    <tr>\n      <th>STEM</th>\n      <td>-0.229974</td>\n      <td>0.998716</td>\n    </tr>\n  </tbody>\n</table>\n</div>"
     },
     "execution_count": 7,
     "metadata": {},
     "output_type": "execute_result"
    }
   ],
   "source": [
    "#Expected Returns\n",
    "    #Here, it is calculated based off past yearly returns. Can be switched out for own expected returns (CAPM, Fama French etc)\n",
    "    #annual in our model\n",
    "ind_er = df.resample('Y').last().pct_change().mean()                    #the 'Y' is for yearly samples.\n",
    "\n",
    "#Volatility\n",
    "    #expressed as annual . Multiplied by root 250 for yearly\n",
    "\n",
    "ann_sd = df.pct_change().apply(lambda x: np.log(1+x)).std().apply(lambda x: x*np.sqrt(tradingdays))\n",
    "\n",
    "assets = pd.concat([ind_er,ann_sd], axis = 1)\n",
    "assets.columns = ['Returns', 'Volatility']\n",
    "assets"
   ],
   "metadata": {
    "collapsed": false
   }
  },
  {
   "cell_type": "code",
   "execution_count": 8,
   "outputs": [],
   "source": [
    "#Returns and Volatility Function Creation\n",
    "    #these functions are called later in the optimization step as inputs for the func arg.\n",
    "\n",
    "def portfolio_returns(weights):\n",
    "    return np.sum(ind_er * weights)\n",
    "\n",
    "def portfolio_sd(weights):\n",
    "    return np.sqrt(np.transpose(weights) @ (cov_matrix * tradingdays) @ weights)*np.sqrt(tradingdays)"
   ],
   "metadata": {
    "collapsed": false
   }
  },
  {
   "cell_type": "code",
   "execution_count": 9,
   "outputs": [
    {
     "data": {
      "text/plain": "    Returns  Volatility  AMRC Weight  DAR Weight  ETR Weight  GPP Weight  \\\n0  0.023171    0.289039     0.148965    0.202477    0.219340    0.157656   \n1  0.026546    0.317622     0.244601    0.221142    0.179938    0.156081   \n2 -0.125842    0.427709     0.010242    0.146472    0.303057    0.017374   \n3 -0.141760    0.462224     0.180523    0.063964    0.196828    0.014652   \n4 -0.087483    0.399231     0.158436    0.046226    0.077056    0.210947   \n\n   ICLN Weight  MVST Weight  STEM Weight  \n0     0.153800     0.051161     0.066602  \n1     0.081509     0.081228     0.035500  \n2     0.066496     0.163296     0.293062  \n3     0.105456     0.216631     0.221945  \n4     0.189439     0.281956     0.035941  ",
      "text/html": "<div>\n<style scoped>\n    .dataframe tbody tr th:only-of-type {\n        vertical-align: middle;\n    }\n\n    .dataframe tbody tr th {\n        vertical-align: top;\n    }\n\n    .dataframe thead th {\n        text-align: right;\n    }\n</style>\n<table border=\"1\" class=\"dataframe\">\n  <thead>\n    <tr style=\"text-align: right;\">\n      <th></th>\n      <th>Returns</th>\n      <th>Volatility</th>\n      <th>AMRC Weight</th>\n      <th>DAR Weight</th>\n      <th>ETR Weight</th>\n      <th>GPP Weight</th>\n      <th>ICLN Weight</th>\n      <th>MVST Weight</th>\n      <th>STEM Weight</th>\n    </tr>\n  </thead>\n  <tbody>\n    <tr>\n      <th>0</th>\n      <td>0.023171</td>\n      <td>0.289039</td>\n      <td>0.148965</td>\n      <td>0.202477</td>\n      <td>0.219340</td>\n      <td>0.157656</td>\n      <td>0.153800</td>\n      <td>0.051161</td>\n      <td>0.066602</td>\n    </tr>\n    <tr>\n      <th>1</th>\n      <td>0.026546</td>\n      <td>0.317622</td>\n      <td>0.244601</td>\n      <td>0.221142</td>\n      <td>0.179938</td>\n      <td>0.156081</td>\n      <td>0.081509</td>\n      <td>0.081228</td>\n      <td>0.035500</td>\n    </tr>\n    <tr>\n      <th>2</th>\n      <td>-0.125842</td>\n      <td>0.427709</td>\n      <td>0.010242</td>\n      <td>0.146472</td>\n      <td>0.303057</td>\n      <td>0.017374</td>\n      <td>0.066496</td>\n      <td>0.163296</td>\n      <td>0.293062</td>\n    </tr>\n    <tr>\n      <th>3</th>\n      <td>-0.141760</td>\n      <td>0.462224</td>\n      <td>0.180523</td>\n      <td>0.063964</td>\n      <td>0.196828</td>\n      <td>0.014652</td>\n      <td>0.105456</td>\n      <td>0.216631</td>\n      <td>0.221945</td>\n    </tr>\n    <tr>\n      <th>4</th>\n      <td>-0.087483</td>\n      <td>0.399231</td>\n      <td>0.158436</td>\n      <td>0.046226</td>\n      <td>0.077056</td>\n      <td>0.210947</td>\n      <td>0.189439</td>\n      <td>0.281956</td>\n      <td>0.035941</td>\n    </tr>\n  </tbody>\n</table>\n</div>"
     },
     "execution_count": 9,
     "metadata": {},
     "output_type": "execute_result"
    }
   ],
   "source": [
    "#Frontier Creation\n",
    "    #the efficient frontier will be simulated using random weights for the individual assets. Might be a way to solve for weights? A lot more math lol\n",
    "\n",
    "p_ret = [] # Define an empty array for portfolio returns\n",
    "p_vol = [] # Define an empty array for portfolio volatility\n",
    "p_weights = [] # Define an empty array for asset weights\n",
    "num_assets = len(port_assets)\n",
    "num_portfolios = 10\n",
    "\n",
    "for portfolio in range(num_portfolios):\n",
    "    weights = np.random.random(size = num_assets)\n",
    "    weights = weights / np.sum(weights)\n",
    "    p_weights.append(weights)\n",
    "    returns = np.dot(weights, ind_er)\n",
    "    p_ret.append(returns)\n",
    "    var = cov_matrix.mul(weights, axis = 0).mul(weights, axis = 1).sum().sum()       #portfolio variance. taken by the weights of each asset multiplied acros the covariance matrix\n",
    "    sd = np.sqrt(var)      #daily standard deviation\n",
    "    ann_sd = sd*np.sqrt(tradingdays)\n",
    "    p_vol.append(ann_sd)\n",
    "\n",
    "data = {'Returns':p_ret, 'Volatility':p_vol}\n",
    "\n",
    "for counter, symbol in enumerate(df.columns.tolist()):\n",
    "    data[symbol + ' Weight'] = [w[counter] for w in p_weights]\n",
    "\n",
    "portfolios = pd.DataFrame(data)\n",
    "portfolios.head()"
   ],
   "metadata": {
    "collapsed": false
   }
  },
  {
   "cell_type": "code",
   "execution_count": 10,
   "outputs": [
    {
     "data": {
      "text/plain": "Returns        0.023171\nVolatility     0.289039\nAMRC Weight    0.148965\nDAR Weight     0.202477\nETR Weight     0.219340\nGPP Weight     0.157656\nICLN Weight    0.153800\nMVST Weight    0.051161\nSTEM Weight    0.066602\nName: 0, dtype: float64"
     },
     "execution_count": 10,
     "metadata": {},
     "output_type": "execute_result"
    }
   ],
   "source": [
    "#Lowest Risk Portfolio\n",
    "\n",
    "min_vol_port = portfolios.iloc[portfolios['Volatility'].idxmin()]\n",
    "# idxmin() gives us the minimum value in the column specified.\n",
    "min_vol_port"
   ],
   "metadata": {
    "collapsed": false
   }
  },
  {
   "cell_type": "code",
   "execution_count": 11,
   "outputs": [
    {
     "name": "stdout",
     "output_type": "stream",
     "text": [
      "Optimal Risky Portfolio\n",
      "Sharpe Ratio: -0.003692415001375525\n",
      "Returns        0.026546\n",
      "Volatility     5.052089\n",
      "AMRC Weight    0.244601\n",
      "DAR Weight     0.221142\n",
      "ETR Weight     0.179938\n",
      "GPP Weight     0.156081\n",
      "ICLN Weight    0.081509\n",
      "MVST Weight    0.081228\n",
      "STEM Weight    0.035500\n",
      "Name: 1, dtype: float64\n"
     ]
    },
    {
     "data": {
      "text/plain": "<Figure size 3500x800 with 2 Axes>",
      "image/png": "[encoded data removed]"
     },
     "metadata": {},
     "output_type": "display_data"
    }
   ],
   "source": [
    "#Optimal Risk Portfolio (Sharpe not Draw Downs)\n",
    "\n",
    "rf = 0.0452 # risk free rate\n",
    "portfolios['Volatility'] = portfolios['Volatility']*np.sqrt(tradingdays)\n",
    "risky_ports=(portfolios['Returns']-rf)/portfolios['Volatility']\n",
    "optimal_risky_port = portfolios.iloc[((portfolios['Returns']-rf)/portfolios['Volatility']).idxmax()]\n",
    "\n",
    "plt.style.use('seaborn-pastel')\n",
    "plt.subplots(figsize=(35, 8))\n",
    "plt.scatter(portfolios['Volatility'], portfolios['Returns'],c=risky_ports, cmap='RdYlBu',marker='o', s=10, alpha=0.3, facecolor = 'w')\n",
    "plt.colorbar()\n",
    "plt.title('Simulated Portfolios Illustrating Efficient Frontier')\n",
    "plt.xlabel('Annualized Volatility')\n",
    "plt.ylabel('Annualized Returns')\n",
    "plt.scatter(min_vol_port[1], min_vol_port[0], color='r', marker='*', s=500, label='Min Volatility')\n",
    "plt.scatter(optimal_risky_port[1], optimal_risky_port[0], color='g', marker='*', s=500 , label='Max Sharpe Ratio')\n",
    "plt.legend(labelspacing = 1.2)\n",
    "print('Optimal Risky Portfolio')\n",
    "max_sharpe=max(((portfolios['Returns']-rf)/portfolios['Volatility']))\n",
    "print(\"Sharpe Ratio:\",max_sharpe)\n",
    "print(optimal_risky_port)\n"
   ],
   "metadata": {
    "collapsed": false
   }
  },
  {
   "cell_type": "code",
   "execution_count": 12,
   "outputs": [
    {
     "data": {
      "text/plain": "7"
     },
     "execution_count": 12,
     "metadata": {},
     "output_type": "execute_result"
    }
   ],
   "source": [
    "#this is the user defined Sharpe ratio function\n",
    "def sharpe_fun(weights):\n",
    "    return - ((portfolio_returns(weights) - rf) / portfolio_sd(weights))\n",
    "\n",
    "constraints = [{'type':'eq','fun': lambda x: np.sum(x) - 1},\n",
    "               {'type':'ineq','fun': lambda x: x-0.05 }]                #using an anonymous lambda function\n",
    "\n",
    "#creats 12 tuples of (0,1), all of which exist in a container tuple -> basically a sequence of (min, max) pairs.\n",
    "\n",
    "bounds = tuple(\n",
    "    (0,1) for w in weights\n",
    ")\n",
    "\n",
    "# Repeat the list with the value (1 / 12) 12 times, and convert list to array\n",
    "equal_weights = np.array(\n",
    "    [1 / len(port_assets)] * len(port_assets)\n",
    ")\n",
    "\n",
    "len(port_assets)"
   ],
   "metadata": {
    "collapsed": false
   }
  },
  {
   "cell_type": "code",
   "execution_count": 13,
   "outputs": [],
   "source": [
    "#Convex Optimization\n",
    "\n",
    "# Minimization (really maximize) Sharpe\n",
    "max_sharpe_results = sco.minimize(\n",
    "    # Objective function\n",
    "    fun = sharpe_fun,\n",
    "    # Initial guess, which is the equal weight array\n",
    "    x0 = equal_weights,\n",
    "    method = 'SLSQP',\n",
    "    bounds = bounds,\n",
    "    constraints = constraints\n",
    ")\n",
    "\n",
    "# Minimize sd\n",
    "min_sd_results = sco.minimize(\n",
    "    # Objective function\n",
    "    fun = portfolio_sd,\n",
    "    # Initial guess, which is the equal weight array\n",
    "    x0 = equal_weights,\n",
    "    method = 'SLSQP',\n",
    "    bounds = bounds,\n",
    "    constraints = constraints\n",
    ")"
   ],
   "metadata": {
    "collapsed": false
   }
  },
  {
   "cell_type": "code",
   "execution_count": 14,
   "outputs": [
    {
     "name": "stdout",
     "output_type": "stream",
     "text": [
      "Max Sharpe Port Return 0.1882\n",
      "Max Sharpe Port SD 4.3744\n",
      "Max Sharpe Port Sharpe Ratio 0.0327\n",
      "===============================================================\n",
      "Min SD Port Return 0.0624\n",
      "Min SD Port SD 3.34\n",
      "Min SD Port Sharpe Ratio 0.0051\n"
     ]
    },
    {
     "data": {
      "text/plain": "array([0.05, 0.05, 0.05, 0.7 , 0.05, 0.05, 0.05])"
     },
     "execution_count": 14,
     "metadata": {},
     "output_type": "execute_result"
    }
   ],
   "source": [
    "#calculated outputs\n",
    "max_sharpe_port_return = portfolio_returns(max_sharpe_results[\"x\"])\n",
    "print('Max Sharpe Port Return', round(max_sharpe_port_return, 4))\n",
    "\n",
    "max_sharpe_port_sd = portfolio_sd(max_sharpe_results[\"x\"])\n",
    "print('Max Sharpe Port SD', round(max_sharpe_port_sd, 4))\n",
    "\n",
    "max_sharpe_port_sharpe = (max_sharpe_port_return - rf) / max_sharpe_port_sd\n",
    "print('Max Sharpe Port Sharpe Ratio', round(max_sharpe_port_sharpe, 4))\n",
    "\n",
    "print('===============================================================')\n",
    "\n",
    "min_sd_port_return = portfolio_returns(min_sd_results[\"x\"])\n",
    "print('Min SD Port Return', round(min_sd_port_return, 4))\n",
    "\n",
    "min_sd_port_sd = portfolio_sd(min_sd_results[\"x\"])\n",
    "print('Min SD Port SD', round(min_sd_port_sd, 4))\n",
    "\n",
    "max_sharpe_port_sharpe = (min_sd_port_return - rf) / min_sd_port_sd\n",
    "print('Min SD Port Sharpe Ratio', round(max_sharpe_port_sharpe, 4))\n",
    "\n",
    "max_sharpe_results[\"x\"]"
   ],
   "metadata": {
    "collapsed": false
   }
  },
  {
   "cell_type": "markdown",
   "source": [
    "Current Portfolio Metrics"
   ],
   "metadata": {
    "collapsed": false
   }
  },
  {
   "cell_type": "code",
   "execution_count": 15,
   "outputs": [
    {
     "name": "stdout",
     "output_type": "stream",
     "text": [
      "Current Portfolio Return: 0.05041361470081289\n",
      "Current Portfolio Standard Deviation: 4.066433159909706\n",
      "Current Portfolio Variance: 16.535878644013234\n",
      "Current Portfolio Sharpe Ratio: 0.0012821100202046994\n"
     ]
    }
   ],
   "source": [
    "current_port_pos = port['Position'].reindex().mul(df.iloc[-1].transpose().reset_index(drop = True))\n",
    "current_port_weight = np.array(current_port_pos / current_port_pos.sum())\n",
    "current_port_sd = portfolio_sd(current_port_weight)\n",
    "current_port_ret = portfolio_returns(current_port_weight)\n",
    "current_port_sharp = (current_port_ret - rf) / current_port_sd\n",
    "print('Current Portfolio Return:', current_port_ret)\n",
    "print('Current Portfolio Standard Deviation:', current_port_sd)\n",
    "print('Current Portfolio Variance:', current_port_sd**2)\n",
    "print('Current Portfolio Sharpe Ratio:', current_port_sharp)\n"
   ],
   "metadata": {
    "collapsed": false
   }
  },
  {
   "cell_type": "code",
   "execution_count": 17,
   "outputs": [
    {
     "ename": "SyntaxError",
     "evalue": "unexpected character after line continuation character (1402009641.py, line 1)",
     "output_type": "error",
     "traceback": [
      "\u001B[1;36m  Cell \u001B[1;32mIn [17], line 1\u001B[1;36m\u001B[0m\n\u001B[1;33m    pipreqs \\Users\\user\\Desktop\\Python stuff\\Anaconda\u001B[0m\n\u001B[1;37m             ^\u001B[0m\n\u001B[1;31mSyntaxError\u001B[0m\u001B[1;31m:\u001B[0m unexpected character after line continuation character\n"
     ]
    }
   ],
   "source": [
    "\n"
   ],
   "metadata": {
    "collapsed": false
   }
  }
 ],
 "metadata": {
  "kernelspec": {
   "display_name": "Python 3",
   "language": "python",
   "name": "python3"
  },
  "language_info": {
   "codemirror_mode": {
    "name": "ipython",
    "version": 2
   },
   "file_extension": ".py",
   "mimetype": "text/x-python",
   "name": "python",
   "nbconvert_exporter": "python",
   "pygments_lexer": "ipython2",
   "version": "2.7.6"
  }
 },
 "nbformat": 4,
 "nbformat_minor": 0
}
