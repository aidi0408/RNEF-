{
 "cells": [
  {
   "cell_type": "markdown",
   "source": [
    "Portfolio Position Risk Calculator and Exit Model"
   ],
   "metadata": {
    "collapsed": false
   }
  },
  {
   "cell_type": "markdown",
   "source": [
    "Import Packages"
   ],
   "metadata": {
    "collapsed": false
   }
  },
  {
   "cell_type": "code",
   "execution_count": 1,
   "outputs": [],
   "source": [
    "import pandas as pd\n",
    "from pandas_datareader import data as pdr\n",
    "import numpy as np\n",
    "import scipy as scp\n",
    "import yfinance as yfin\n",
    "from datetime import datetime, timedelta\n",
    "import matplotlib.pyplot as plt"
   ],
   "metadata": {
    "collapsed": false
   }
  },
  {
   "cell_type": "markdown",
   "source": [
    "Import Portfolio Level Data"
   ],
   "metadata": {
    "collapsed": false
   }
  },
  {
   "cell_type": "code",
   "execution_count": 40,
   "outputs": [
    {
     "data": {
      "text/plain": "  Security              PK    ID Position Price_1   PCS FX Rate Principal  \\\n0  AMRC US  AMRC US Equity  AMRC      140   55.10  EXCH       1      7714   \n1   DAR US   DAR US Equity   DAR      175   66.85  EXCH       1 11,698.75   \n2   ETR US   ETR US Equity   ETR      140  105.76  EXCH       1 14,803.60   \n3   GPP US   GPP US Equity   GPP     1200   13.05  EXCH       1     15660   \n4  ICLN US  ICLN US Equity  ICLN      870   19.87  EXCH       1 17,286.90   \n5  MVST US  MVST US Equity  MVST     1000    1.53  EXCH       1      1530   \n6  STEM US  STEM US Equity  STEM      350    9.15  EXCH       1  3,202.50   \n\n  Accrued Market Val Price_2 FX Rate Principal Accrued  Cost Val Cost Date  \n0     NaN       7714      55       1      7700     NaN      7700  12/22/22  \n1     NaN  11,698.75   67.31       1 11,779.57     NaN 11,779.57  11/29/22  \n2     NaN  14,803.60  103.93       1 14,550.20     NaN 14,550.20  02/13/23  \n3     NaN      15660   12.27       1 14,726.86     NaN 14,726.86  11/23/22  \n4     NaN  17,286.90   17.84       1 15,520.45     NaN 15,520.45  10/13/22  \n5     NaN       1530    1.96       1  1,957.70     NaN  1,957.70  12/09/22  \n6     NaN   3,202.50   10.55       1  3,690.75     NaN  3,690.75  12/09/22  ",
      "text/html": "<div>\n<style scoped>\n    .dataframe tbody tr th:only-of-type {\n        vertical-align: middle;\n    }\n\n    .dataframe tbody tr th {\n        vertical-align: top;\n    }\n\n    .dataframe thead th {\n        text-align: right;\n    }\n</style>\n<table border=\"1\" class=\"dataframe\">\n  <thead>\n    <tr style=\"text-align: right;\">\n      <th></th>\n      <th>Security</th>\n      <th>PK</th>\n      <th>ID</th>\n      <th>Position</th>\n      <th>Price_1</th>\n      <th>PCS</th>\n      <th>FX Rate</th>\n      <th>Principal</th>\n      <th>Accrued</th>\n      <th>Market Val</th>\n      <th>Price_2</th>\n      <th>FX Rate</th>\n      <th>Principal</th>\n      <th>Accrued</th>\n      <th>Cost Val</th>\n      <th>Cost Date</th>\n    </tr>\n  </thead>\n  <tbody>\n    <tr>\n      <th>0</th>\n      <td>AMRC US</td>\n      <td>AMRC US Equity</td>\n      <td>AMRC</td>\n      <td>140</td>\n      <td>55.10</td>\n      <td>EXCH</td>\n      <td>1</td>\n      <td>7714</td>\n      <td>NaN</td>\n      <td>7714</td>\n      <td>55</td>\n      <td>1</td>\n      <td>7700</td>\n      <td>NaN</td>\n      <td>7700</td>\n      <td>12/22/22</td>\n    </tr>\n    <tr>\n      <th>1</th>\n      <td>DAR US</td>\n      <td>DAR US Equity</td>\n      <td>DAR</td>\n      <td>175</td>\n      <td>66.85</td>\n      <td>EXCH</td>\n      <td>1</td>\n      <td>11,698.75</td>\n      <td>NaN</td>\n      <td>11,698.75</td>\n      <td>67.31</td>\n      <td>1</td>\n      <td>11,779.57</td>\n      <td>NaN</td>\n      <td>11,779.57</td>\n      <td>11/29/22</td>\n    </tr>\n    <tr>\n      <th>2</th>\n      <td>ETR US</td>\n      <td>ETR US Equity</td>\n      <td>ETR</td>\n      <td>140</td>\n      <td>105.76</td>\n      <td>EXCH</td>\n      <td>1</td>\n      <td>14,803.60</td>\n      <td>NaN</td>\n      <td>14,803.60</td>\n      <td>103.93</td>\n      <td>1</td>\n      <td>14,550.20</td>\n      <td>NaN</td>\n      <td>14,550.20</td>\n      <td>02/13/23</td>\n    </tr>\n    <tr>\n      <th>3</th>\n      <td>GPP US</td>\n      <td>GPP US Equity</td>\n      <td>GPP</td>\n      <td>1200</td>\n      <td>13.05</td>\n      <td>EXCH</td>\n      <td>1</td>\n      <td>15660</td>\n      <td>NaN</td>\n      <td>15660</td>\n      <td>12.27</td>\n      <td>1</td>\n      <td>14,726.86</td>\n      <td>NaN</td>\n      <td>14,726.86</td>\n      <td>11/23/22</td>\n    </tr>\n    <tr>\n      <th>4</th>\n      <td>ICLN US</td>\n      <td>ICLN US Equity</td>\n      <td>ICLN</td>\n      <td>870</td>\n      <td>19.87</td>\n      <td>EXCH</td>\n      <td>1</td>\n      <td>17,286.90</td>\n      <td>NaN</td>\n      <td>17,286.90</td>\n      <td>17.84</td>\n      <td>1</td>\n      <td>15,520.45</td>\n      <td>NaN</td>\n      <td>15,520.45</td>\n      <td>10/13/22</td>\n    </tr>\n    <tr>\n      <th>5</th>\n      <td>MVST US</td>\n      <td>MVST US Equity</td>\n      <td>MVST</td>\n      <td>1000</td>\n      <td>1.53</td>\n      <td>EXCH</td>\n      <td>1</td>\n      <td>1530</td>\n      <td>NaN</td>\n      <td>1530</td>\n      <td>1.96</td>\n      <td>1</td>\n      <td>1,957.70</td>\n      <td>NaN</td>\n      <td>1,957.70</td>\n      <td>12/09/22</td>\n    </tr>\n    <tr>\n      <th>6</th>\n      <td>STEM US</td>\n      <td>STEM US Equity</td>\n      <td>STEM</td>\n      <td>350</td>\n      <td>9.15</td>\n      <td>EXCH</td>\n      <td>1</td>\n      <td>3,202.50</td>\n      <td>NaN</td>\n      <td>3,202.50</td>\n      <td>10.55</td>\n      <td>1</td>\n      <td>3,690.75</td>\n      <td>NaN</td>\n      <td>3,690.75</td>\n      <td>12/09/22</td>\n    </tr>\n  </tbody>\n</table>\n</div>"
     },
     "execution_count": 40,
     "metadata": {},
     "output_type": "execute_result"
    }
   ],
   "source": [
    "port = pd.read_excel('Port.xlsx', parse_dates =[15])\n",
    "port = port.rename(columns=port.loc[8])\n",
    "port = port.drop(np.arange(0,12)).reset_index(drop=True)\n",
    "port = port[port['Position'].notna()].reset_index(drop=True)\n",
    "pd.options.display.float_format = '{:,.2f}'.format\n",
    "cols = []\n",
    "count = 1\n",
    "for column in port.columns:\n",
    "    if column == 'Price':\n",
    "        cols.append(f'Price_{count}')\n",
    "        count+=1\n",
    "        continue\n",
    "    cols.append(column)\n",
    "port.columns = cols\n",
    "port = port.sort_values('ID').reset_index(drop = True)\n",
    "port\n",
    "#note that Price_1 is the current price as of the Bloomberg pull, and Price_2 is the Price we bought at"
   ],
   "metadata": {
    "collapsed": false
   }
  },
  {
   "cell_type": "markdown",
   "source": [
    "Import Current Market Data"
   ],
   "metadata": {
    "collapsed": false
   }
  },
  {
   "cell_type": "code",
   "execution_count": 41,
   "outputs": [
    {
     "name": "stdout",
     "output_type": "stream",
     "text": [
      "[*********************100%***********************]  7 of 7 completed\n"
     ]
    },
    {
     "data": {
      "text/plain": "            AMRC   DAR    ETR   GPP  ICLN  MVST  STEM\nDate                                                 \n2023-01-17 60.90 66.70 105.83 12.77 21.36  1.72 10.37\n2023-01-18 61.20 64.61 106.50 12.80 21.11  1.73 10.28\n2023-01-19 59.52 64.61 105.92 12.82 20.40  1.63  9.89\n2023-01-20 61.75 65.63 106.35 12.86 20.60  1.65 10.22\n2023-01-23 64.26 66.23 105.67 13.15 20.97  1.69 10.75\n2023-01-24 64.14 64.59 106.18 13.03 20.81  1.66  9.94\n2023-01-25 63.07 66.04 106.41 13.12 20.64  1.65  9.80\n2023-01-26 62.92 66.90 107.37 13.22 20.63  1.60  9.57\n2023-01-27 64.58 65.36 107.61 13.20 20.53  1.56  9.86\n2023-01-30 62.61 65.17 106.60 13.34 20.16  1.58  9.43\n2023-01-31 64.47 66.29 107.18 13.28 20.74  1.63  9.86\n2023-02-01 64.31 67.46 108.10 13.34 20.95  1.63 10.42\n2023-02-02 62.09 67.01 109.43 13.15 20.82  1.76 10.57\n2023-02-03 60.16 66.47 106.98 12.86 20.28  1.74 10.22\n2023-02-06 56.43 66.40 107.73 12.96 20.22  1.68 10.07\n2023-02-07 56.71 66.06 106.67 12.92 20.21  1.68 10.14\n2023-02-08 54.77 65.47 104.53 12.82 20.05  1.65  9.89\n2023-02-09 54.33 64.56 103.41 12.83 19.71  1.58  9.59\n2023-02-10 53.97 65.67 105.79 13.06 19.68  1.55  9.19\n2023-02-13 55.07 67.33 105.83 13.04 19.87  1.54  9.09\n2023-02-14 55.25 68.37 106.09 13.06 19.73  1.50  9.50\n2023-02-15 59.94 68.47 107.55 13.06 20.15  1.65 10.25\n2023-02-16 56.08 67.72 108.27 12.97 19.61  1.50  9.74\n2023-02-17 55.20 66.55 109.43 12.93 19.62  1.45  8.30\n2023-02-21 51.89 65.00 107.60 12.78 19.31  1.37  8.15\n2023-02-22 51.48 66.66 107.50 12.75 19.23  1.37  8.14",
      "text/html": "<div>\n<style scoped>\n    .dataframe tbody tr th:only-of-type {\n        vertical-align: middle;\n    }\n\n    .dataframe tbody tr th {\n        vertical-align: top;\n    }\n\n    .dataframe thead th {\n        text-align: right;\n    }\n</style>\n<table border=\"1\" class=\"dataframe\">\n  <thead>\n    <tr style=\"text-align: right;\">\n      <th></th>\n      <th>AMRC</th>\n      <th>DAR</th>\n      <th>ETR</th>\n      <th>GPP</th>\n      <th>ICLN</th>\n      <th>MVST</th>\n      <th>STEM</th>\n    </tr>\n    <tr>\n      <th>Date</th>\n      <th></th>\n      <th></th>\n      <th></th>\n      <th></th>\n      <th></th>\n      <th></th>\n      <th></th>\n    </tr>\n  </thead>\n  <tbody>\n    <tr>\n      <th>2023-01-17</th>\n      <td>60.90</td>\n      <td>66.70</td>\n      <td>105.83</td>\n      <td>12.77</td>\n      <td>21.36</td>\n      <td>1.72</td>\n      <td>10.37</td>\n    </tr>\n    <tr>\n      <th>2023-01-18</th>\n      <td>61.20</td>\n      <td>64.61</td>\n      <td>106.50</td>\n      <td>12.80</td>\n      <td>21.11</td>\n      <td>1.73</td>\n      <td>10.28</td>\n    </tr>\n    <tr>\n      <th>2023-01-19</th>\n      <td>59.52</td>\n      <td>64.61</td>\n      <td>105.92</td>\n      <td>12.82</td>\n      <td>20.40</td>\n      <td>1.63</td>\n      <td>9.89</td>\n    </tr>\n    <tr>\n      <th>2023-01-20</th>\n      <td>61.75</td>\n      <td>65.63</td>\n      <td>106.35</td>\n      <td>12.86</td>\n      <td>20.60</td>\n      <td>1.65</td>\n      <td>10.22</td>\n    </tr>\n    <tr>\n      <th>2023-01-23</th>\n      <td>64.26</td>\n      <td>66.23</td>\n      <td>105.67</td>\n      <td>13.15</td>\n      <td>20.97</td>\n      <td>1.69</td>\n      <td>10.75</td>\n    </tr>\n    <tr>\n      <th>2023-01-24</th>\n      <td>64.14</td>\n      <td>64.59</td>\n      <td>106.18</td>\n      <td>13.03</td>\n      <td>20.81</td>\n      <td>1.66</td>\n      <td>9.94</td>\n    </tr>\n    <tr>\n      <th>2023-01-25</th>\n      <td>63.07</td>\n      <td>66.04</td>\n      <td>106.41</td>\n      <td>13.12</td>\n      <td>20.64</td>\n      <td>1.65</td>\n      <td>9.80</td>\n    </tr>\n    <tr>\n      <th>2023-01-26</th>\n      <td>62.92</td>\n      <td>66.90</td>\n      <td>107.37</td>\n      <td>13.22</td>\n      <td>20.63</td>\n      <td>1.60</td>\n      <td>9.57</td>\n    </tr>\n    <tr>\n      <th>2023-01-27</th>\n      <td>64.58</td>\n      <td>65.36</td>\n      <td>107.61</td>\n      <td>13.20</td>\n      <td>20.53</td>\n      <td>1.56</td>\n      <td>9.86</td>\n    </tr>\n    <tr>\n      <th>2023-01-30</th>\n      <td>62.61</td>\n      <td>65.17</td>\n      <td>106.60</td>\n      <td>13.34</td>\n      <td>20.16</td>\n      <td>1.58</td>\n      <td>9.43</td>\n    </tr>\n    <tr>\n      <th>2023-01-31</th>\n      <td>64.47</td>\n      <td>66.29</td>\n      <td>107.18</td>\n      <td>13.28</td>\n      <td>20.74</td>\n      <td>1.63</td>\n      <td>9.86</td>\n    </tr>\n    <tr>\n      <th>2023-02-01</th>\n      <td>64.31</td>\n      <td>67.46</td>\n      <td>108.10</td>\n      <td>13.34</td>\n      <td>20.95</td>\n      <td>1.63</td>\n      <td>10.42</td>\n    </tr>\n    <tr>\n      <th>2023-02-02</th>\n      <td>62.09</td>\n      <td>67.01</td>\n      <td>109.43</td>\n      <td>13.15</td>\n      <td>20.82</td>\n      <td>1.76</td>\n      <td>10.57</td>\n    </tr>\n    <tr>\n      <th>2023-02-03</th>\n      <td>60.16</td>\n      <td>66.47</td>\n      <td>106.98</td>\n      <td>12.86</td>\n      <td>20.28</td>\n      <td>1.74</td>\n      <td>10.22</td>\n    </tr>\n    <tr>\n      <th>2023-02-06</th>\n      <td>56.43</td>\n      <td>66.40</td>\n      <td>107.73</td>\n      <td>12.96</td>\n      <td>20.22</td>\n      <td>1.68</td>\n      <td>10.07</td>\n    </tr>\n    <tr>\n      <th>2023-02-07</th>\n      <td>56.71</td>\n      <td>66.06</td>\n      <td>106.67</td>\n      <td>12.92</td>\n      <td>20.21</td>\n      <td>1.68</td>\n      <td>10.14</td>\n    </tr>\n    <tr>\n      <th>2023-02-08</th>\n      <td>54.77</td>\n      <td>65.47</td>\n      <td>104.53</td>\n      <td>12.82</td>\n      <td>20.05</td>\n      <td>1.65</td>\n      <td>9.89</td>\n    </tr>\n    <tr>\n      <th>2023-02-09</th>\n      <td>54.33</td>\n      <td>64.56</td>\n      <td>103.41</td>\n      <td>12.83</td>\n      <td>19.71</td>\n      <td>1.58</td>\n      <td>9.59</td>\n    </tr>\n    <tr>\n      <th>2023-02-10</th>\n      <td>53.97</td>\n      <td>65.67</td>\n      <td>105.79</td>\n      <td>13.06</td>\n      <td>19.68</td>\n      <td>1.55</td>\n      <td>9.19</td>\n    </tr>\n    <tr>\n      <th>2023-02-13</th>\n      <td>55.07</td>\n      <td>67.33</td>\n      <td>105.83</td>\n      <td>13.04</td>\n      <td>19.87</td>\n      <td>1.54</td>\n      <td>9.09</td>\n    </tr>\n    <tr>\n      <th>2023-02-14</th>\n      <td>55.25</td>\n      <td>68.37</td>\n      <td>106.09</td>\n      <td>13.06</td>\n      <td>19.73</td>\n      <td>1.50</td>\n      <td>9.50</td>\n    </tr>\n    <tr>\n      <th>2023-02-15</th>\n      <td>59.94</td>\n      <td>68.47</td>\n      <td>107.55</td>\n      <td>13.06</td>\n      <td>20.15</td>\n      <td>1.65</td>\n      <td>10.25</td>\n    </tr>\n    <tr>\n      <th>2023-02-16</th>\n      <td>56.08</td>\n      <td>67.72</td>\n      <td>108.27</td>\n      <td>12.97</td>\n      <td>19.61</td>\n      <td>1.50</td>\n      <td>9.74</td>\n    </tr>\n    <tr>\n      <th>2023-02-17</th>\n      <td>55.20</td>\n      <td>66.55</td>\n      <td>109.43</td>\n      <td>12.93</td>\n      <td>19.62</td>\n      <td>1.45</td>\n      <td>8.30</td>\n    </tr>\n    <tr>\n      <th>2023-02-21</th>\n      <td>51.89</td>\n      <td>65.00</td>\n      <td>107.60</td>\n      <td>12.78</td>\n      <td>19.31</td>\n      <td>1.37</td>\n      <td>8.15</td>\n    </tr>\n    <tr>\n      <th>2023-02-22</th>\n      <td>51.48</td>\n      <td>66.66</td>\n      <td>107.50</td>\n      <td>12.75</td>\n      <td>19.23</td>\n      <td>1.37</td>\n      <td>8.14</td>\n    </tr>\n  </tbody>\n</table>\n</div>"
     },
     "execution_count": 41,
     "metadata": {},
     "output_type": "execute_result"
    }
   ],
   "source": [
    "port_assets = list(port['ID'])\n",
    "today = datetime.today().strftime('%Y-%m-%d')\n",
    "start_date = \"2023-01-17\"\n",
    "start_date = datetime.strptime(start_date,'%Y-%m-%d')\n",
    "tradingdays = 252\n",
    "yfin.pdr_override()\n",
    "df = pdr.get_data_yahoo(port_assets, start = start_date, end = today)\n",
    "df = df['Adj Close'].dropna()\n",
    "port['Cost Date']=pd.to_datetime(port['Cost Date'])\n",
    "\n",
    "\n",
    "\n",
    "port['Time Delta'] = ((datetime.today() - port['Cost Date'])/np.timedelta64(1, 'M'))\n",
    "#port['Time Delta'] = temp\n",
    "df"
   ],
   "metadata": {
    "collapsed": false
   }
  },
  {
   "cell_type": "markdown",
   "source": [
    "Compounded Returns for Assets Held"
   ],
   "metadata": {
    "collapsed": false
   }
  },
  {
   "cell_type": "code",
   "execution_count": 43,
   "outputs": [
    {
     "data": {
      "text/plain": "ID\nAMRC   -0.03\nDAR    -0.00\nETR     0.10\nGPP     0.01\nICLN    0.02\nMVST   -0.14\nSTEM   -0.10\nName: Compound Monthly Returns, dtype: float64"
     },
     "execution_count": 43,
     "metadata": {},
     "output_type": "execute_result"
    }
   ],
   "source": [
    "returns = (df.iloc[-1].transpose().reset_index(drop = True) / port['Price_2']).apply(lambda x: np.log(x))\n",
    "returns = returns / port['Time Delta'].values\n",
    "returns.index = port['ID']\n",
    "returns = returns.rename('Compound Monthly Returns')\n",
    "returns"
   ],
   "metadata": {
    "collapsed": false
   }
  },
  {
   "cell_type": "markdown",
   "source": [
    "VALUE AT RISK CALCULATIONS\n",
    "\n",
    "1. Historical Data"
   ],
   "metadata": {
    "collapsed": false
   }
  },
  {
   "cell_type": "code",
   "execution_count": 44,
   "outputs": [
    {
     "name": "stdout",
     "output_type": "stream",
     "text": [
      "[*********************100%***********************]  7 of 7 completed\n"
     ]
    },
    {
     "data": {
      "text/plain": "            AMRC   DAR   ETR   GPP  ICLN  MVST  STEM\nDate                                                \n2000-01-31   NaN   NaN   NaN   NaN   NaN   NaN   NaN\n2000-02-29   NaN  0.04  0.20   NaN   NaN   NaN   NaN\n2000-03-31   NaN  0.07  0.00   NaN   NaN   NaN   NaN\n2000-04-30   NaN  0.17 -0.23   NaN   NaN   NaN   NaN\n2000-05-31   NaN  0.20 -0.15   NaN   NaN   NaN   NaN\n...          ...   ...   ...   ...   ...   ...   ...\n2022-10-31  0.09 -0.17 -0.06 -0.10  0.01 -0.30 -0.02\n2022-11-30 -0.08  0.09 -0.09  0.05 -0.11  0.11  0.04\n2022-12-31  0.14  0.14  0.03 -0.04  0.06  0.36  0.38\n2023-01-31 -0.12 -0.06  0.04 -0.06 -0.04 -0.06 -0.10\n2023-02-28  0.23 -0.01 -0.00  0.04  0.08  0.17  0.19\n\n[278 rows x 7 columns]",
      "text/html": "<div>\n<style scoped>\n    .dataframe tbody tr th:only-of-type {\n        vertical-align: middle;\n    }\n\n    .dataframe tbody tr th {\n        vertical-align: top;\n    }\n\n    .dataframe thead th {\n        text-align: right;\n    }\n</style>\n<table border=\"1\" class=\"dataframe\">\n  <thead>\n    <tr style=\"text-align: right;\">\n      <th></th>\n      <th>AMRC</th>\n      <th>DAR</th>\n      <th>ETR</th>\n      <th>GPP</th>\n      <th>ICLN</th>\n      <th>MVST</th>\n      <th>STEM</th>\n    </tr>\n    <tr>\n      <th>Date</th>\n      <th></th>\n      <th></th>\n      <th></th>\n      <th></th>\n      <th></th>\n      <th></th>\n      <th></th>\n    </tr>\n  </thead>\n  <tbody>\n    <tr>\n      <th>2000-01-31</th>\n      <td>NaN</td>\n      <td>NaN</td>\n      <td>NaN</td>\n      <td>NaN</td>\n      <td>NaN</td>\n      <td>NaN</td>\n      <td>NaN</td>\n    </tr>\n    <tr>\n      <th>2000-02-29</th>\n      <td>NaN</td>\n      <td>0.04</td>\n      <td>0.20</td>\n      <td>NaN</td>\n      <td>NaN</td>\n      <td>NaN</td>\n      <td>NaN</td>\n    </tr>\n    <tr>\n      <th>2000-03-31</th>\n      <td>NaN</td>\n      <td>0.07</td>\n      <td>0.00</td>\n      <td>NaN</td>\n      <td>NaN</td>\n      <td>NaN</td>\n      <td>NaN</td>\n    </tr>\n    <tr>\n      <th>2000-04-30</th>\n      <td>NaN</td>\n      <td>0.17</td>\n      <td>-0.23</td>\n      <td>NaN</td>\n      <td>NaN</td>\n      <td>NaN</td>\n      <td>NaN</td>\n    </tr>\n    <tr>\n      <th>2000-05-31</th>\n      <td>NaN</td>\n      <td>0.20</td>\n      <td>-0.15</td>\n      <td>NaN</td>\n      <td>NaN</td>\n      <td>NaN</td>\n      <td>NaN</td>\n    </tr>\n    <tr>\n      <th>...</th>\n      <td>...</td>\n      <td>...</td>\n      <td>...</td>\n      <td>...</td>\n      <td>...</td>\n      <td>...</td>\n      <td>...</td>\n    </tr>\n    <tr>\n      <th>2022-10-31</th>\n      <td>0.09</td>\n      <td>-0.17</td>\n      <td>-0.06</td>\n      <td>-0.10</td>\n      <td>0.01</td>\n      <td>-0.30</td>\n      <td>-0.02</td>\n    </tr>\n    <tr>\n      <th>2022-11-30</th>\n      <td>-0.08</td>\n      <td>0.09</td>\n      <td>-0.09</td>\n      <td>0.05</td>\n      <td>-0.11</td>\n      <td>0.11</td>\n      <td>0.04</td>\n    </tr>\n    <tr>\n      <th>2022-12-31</th>\n      <td>0.14</td>\n      <td>0.14</td>\n      <td>0.03</td>\n      <td>-0.04</td>\n      <td>0.06</td>\n      <td>0.36</td>\n      <td>0.38</td>\n    </tr>\n    <tr>\n      <th>2023-01-31</th>\n      <td>-0.12</td>\n      <td>-0.06</td>\n      <td>0.04</td>\n      <td>-0.06</td>\n      <td>-0.04</td>\n      <td>-0.06</td>\n      <td>-0.10</td>\n    </tr>\n    <tr>\n      <th>2023-02-28</th>\n      <td>0.23</td>\n      <td>-0.01</td>\n      <td>-0.00</td>\n      <td>0.04</td>\n      <td>0.08</td>\n      <td>0.17</td>\n      <td>0.19</td>\n    </tr>\n  </tbody>\n</table>\n<p>278 rows × 7 columns</p>\n</div>"
     },
     "execution_count": 44,
     "metadata": {},
     "output_type": "execute_result"
    }
   ],
   "source": [
    "risk_start = '2000-01-01'\n",
    "hist_risk_ret = pdr.get_data_yahoo(port_assets, start = risk_start, end = today)\n",
    "hist_risk_ret = hist_risk_ret.resample('M').last()\n",
    "hist_risk_ret = hist_risk_ret['Adj Close']\n",
    "hist_risk_ret = (hist_risk_ret.shift(1)/hist_risk_ret).apply(lambda x: np.log(x))\n",
    "hist_risk_ret"
   ],
   "metadata": {
    "collapsed": false
   }
  },
  {
   "cell_type": "code",
   "execution_count": 119,
   "outputs": [
    {
     "name": "stdout",
     "output_type": "stream",
     "text": [
      "AMRC 95% VAR -21.14 % | AMT: -1523.37 $\n",
      "DAR 95% VAR -17.75 % | AMT: -2071.0 $\n",
      "ETR 95% VAR -9.72 % | AMT: -1462.77 $\n",
      "GPP 95% VAR -17.0 % | AMT: -2600.48 $\n",
      "ICLN 95% VAR -13.9 % | AMT: -2325.19 $\n",
      "MVST 95% VAR -24.98 % | AMT: -342.17 $\n",
      "STEM 95% VAR -42.13 % | AMT: -1200.31 $\n",
      "======================================\n",
      "Total 95% VAR Amount: -11525.28 $\n",
      "Total 95% VAR -0.16 %\n"
     ]
    }
   ],
   "source": [
    "#comment out the plot = True if you don't want to see plots\n",
    "plot = False\n",
    "#plot = True\n",
    "var_ret = []\n",
    "var_amt = []\n",
    "colnames = list(hist_risk_ret.columns)\n",
    "var_pct = 5     #control variable for VAR %. Normally 5 %\n",
    "icol = 0\n",
    "for i in hist_risk_ret.columns:\n",
    "    loss95_ret = np.percentile(hist_risk_ret[i].dropna(), var_pct)\n",
    "    var_ret.append(loss95_ret)\n",
    "    var_amt.append(loss95_ret*port.loc[icol,'Position']*df.iloc[-1].loc[i])\n",
    "    #print(colnames[icol],'95% VAR Returns',loss95)\n",
    "    if plot == True:\n",
    "        plt.hist(hist_risk_ret[i]*100,bins=30,label = i)\n",
    "        plt.xlabel(\"% Returns\")\n",
    "        plt.ylabel(\"Count\")\n",
    "        plt.axvline(loss95*100, color='r', linestyle = 'dashed', linewidth = 2, label= f'{100-var_pct}% VAR')\n",
    "        plt.legend()\n",
    "        plt.show()\n",
    "    icol = icol + 1\n",
    "\n",
    "for i in range(len(var_amt)):\n",
    "    print(colnames[i], f'{100-var_pct}% VAR',float(\"{:.2f}\".format(var_ret[i]*100)) ,'%','| AMT:',float(\"{:.2f}\".format(var_amt[i])),'$')\n",
    "\n",
    "total_current_var_amt = sum(var_amt)\n",
    "\n",
    "current_pos = []\n",
    "ipos = 0\n",
    "for i in hist_risk_ret.columns:\n",
    "    current_pos.append(port.loc[ipos,'Position']*df.iloc[-1].loc[i])\n",
    "    ipos = ipos + 1\n",
    "\n",
    "print('======================================')\n",
    "print(f'Total {100-var_pct}% VAR Amount:',float(\"{:.2f}\".format(total_current_var_amt)),'$')\n",
    "print(f'Total {100-var_pct}% VAR',float(\"{:.2f}\".format(total_current_var_amt/sum(current_pos))),'%')"
   ],
   "metadata": {
    "collapsed": false
   }
  },
  {
   "cell_type": "markdown",
   "source": [
    "Marginal Position Calculator:"
   ],
   "metadata": {
    "collapsed": false
   }
  },
  {
   "cell_type": "code",
   "execution_count": 120,
   "outputs": [
    {
     "name": "stdout",
     "output_type": "stream",
     "text": [
      "[*********************100%***********************]  1 of 1 completed\n",
      "Max Acceptable Position 25357.11 $ |  New Stock 95 % VAR -0.18 %\n"
     ]
    }
   ],
   "source": [
    "solver = True\n",
    "if solver == True:\n",
    "    new_stock = 'HCCI'         #Input The New Stock You Want to Solve\n",
    "    risk_tol = 0.01           #Risk tolerance for every position we put on. Expressed as percentage (of the entire portfolio we can afford to lose)\n",
    "    port_val = 200000         #Value of entire portfolio including cash\n",
    "    ns = pdr.get_data_yahoo(new_stock, start = risk_start, end = today)\n",
    "    ns = ns.resample('M').last()\n",
    "    ns = ns['Adj Close'].dropna().pct_change()\n",
    "    ns95_ret = np.percentile(ns.dropna(), var_pct)\n",
    "    max_risk = (len(hist_risk_ret.columns)+1)*(risk_tol)*port_val\n",
    "    ns_pos = (max_risk - (-total_current_var_amt)) / -ns95_ret\n",
    "    print('Max Acceptable Position', float(\"{:.2f}\".format(ns_pos)), '$', f'|  New Stock {100-var_pct} % VAR', float(\"{:.2f}\".format(ns95_ret)),'%')\n",
    "\n",
    "    if plot == True:\n",
    "        plt.hist(ns*100,bins=30,label = new_stock)\n",
    "        plt.xlabel(\"% Returns\")\n",
    "        plt.ylabel(\"Count\")\n",
    "        plt.axvline(ns95_ret*100, color='r', linestyle = 'dashed', linewidth = 2, label= '95% VAR')\n",
    "        plt.legend()\n",
    "        plt.show()\n"
   ],
   "metadata": {
    "collapsed": false
   }
  },
  {
   "cell_type": "code",
   "execution_count": null,
   "outputs": [],
   "source": [
    "# target_var_percent = -0.20\n",
    "# new_stock = 'NEP'         #Input The New Stock You Want to Solve\n",
    "# ns = pdr.get_data_yahoo(new_stock, start = risk_start, end = today)\n",
    "# ns = ns.resample('M').last()\n",
    "# ns = ns['Adj Close'].dropna().pct_change()\n",
    "# ns95_ret = np.percentile(ns.dropna(), 5)\n",
    "# ns_pos = (total_current_var_amt-(target_var_percent*sum(current_pos))) / (target_var_percent - (ns95_ret))\n",
    "# print(ns_pos,ns95_ret)\n"
   ],
   "metadata": {
    "collapsed": false
   }
  }
 ],
 "metadata": {
  "kernelspec": {
   "display_name": "Python 3",
   "language": "python",
   "name": "python3"
  },
  "language_info": {
   "codemirror_mode": {
    "name": "ipython",
    "version": 2
   },
   "file_extension": ".py",
   "mimetype": "text/x-python",
   "name": "python",
   "nbconvert_exporter": "python",
   "pygments_lexer": "ipython2",
   "version": "2.7.6"
  }
 },
 "nbformat": 4,
 "nbformat_minor": 0
}
